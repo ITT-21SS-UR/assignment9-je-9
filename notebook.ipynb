{
 "cells": [
  {
   "cell_type": "markdown",
   "metadata": {},
   "source": [
    "# Projective Transformations"
   ]
  },
  {
   "cell_type": "markdown",
   "metadata": {},
   "source": [
    "**Goal**: Given four markers  in view, find out where within this area the DIPPID device (Smartphone or Webcam) is pointing at.\n",
    "\n",
    "**Reminder**: Projective Transforms do not preserve parallelism, length and angle (contrary to affine transformations), yet preserve collinearity and incidence \n",
    "\n",
    "**See**: Homography, Vector Spaces"
   ]
  },
  {
   "cell_type": "code",
   "execution_count": null,
   "metadata": {},
   "outputs": [],
   "source": [
    "%pylab inline\n",
    "%config InlineBackend.figure_format='svg'"
   ]
  },
  {
   "cell_type": "code",
   "execution_count": null,
   "metadata": {},
   "outputs": [],
   "source": [
    "CAM_WIDTH, CAM_HEIGHT = 1024, 768 # the dimensions "
   ]
  },
  {
   "cell_type": "code",
   "execution_count": null,
   "metadata": {},
   "outputs": [],
   "source": [
    "# Four markers indicating the corners of the display with which we interact\n",
    "\n",
    "# needs some more pre-processing in practical usage\n",
    "# sorting of points required \n",
    "# define which one is the top left corner, bottom left corner, ...\n",
    "\n",
    "A = 450, 690\n",
    "B = 500, 300\n",
    "C = 950, 300\n",
    "D = 900, 700\n",
    "\n",
    "scoords = [A, B, C, D]\n",
    "scoords"
   ]
  },
  {
   "cell_type": "code",
   "execution_count": null,
   "metadata": {
    "scrolled": true
   },
   "outputs": [],
   "source": [
    "xlim(0, CAM_WIDTH)\n",
    "ylim(0, CAM_HEIGHT)\n",
    "scatter(*zip(*scoords)); # repack points[] to axes[] for plotting\n",
    "scatter([CAM_WIDTH / 2],[CAM_HEIGHT / 2],c='r',marker='+'); # center of the Wiimote sensor i.e. the position we point to."
   ]
  },
  {
   "cell_type": "markdown",
   "metadata": {},
   "source": [
    "Our Goal: find out where our Wiimote is pointing at:\n",
    "based on:\n",
    "http://math.stackexchange.com/questions/296794/finding-the-transform-matrix-from-4-projected-points-with-javascript"
   ]
  },
  {
   "cell_type": "markdown",
   "metadata": {},
   "source": [
    "**Step 1:** Starting with the 4 positions in the source image, named $A, B, C, D$, you solve the following system of linear equations:\n",
    "\n",
    "$$\\begin{pmatrix}\n",
    "A_x & B_x & C_x \\\\\n",
    "A_y & B_y & C_y \\\\\n",
    "1 & 1 & 1\n",
    "\\end{pmatrix}\\cdot\n",
    "\\begin{pmatrix}\\lambda\\\\\\mu\\\\\\tau\\end{pmatrix}=\n",
    "\\begin{pmatrix}D_x\\\\D_y\\\\1\\end{pmatrix}$$\n",
    "\n",
    "These are called homogenous coordinates. We fixed the basis of our vector space by using A, B and C. This basis allows us to represent any point within this vector space, in this case D. By solving this system of linear equations, we retrieve the values for lambda, my and tau. These are the factors we need to transform from the identity matrix to the source matrix."
   ]
  },
  {
   "cell_type": "code",
   "execution_count": null,
   "metadata": {},
   "outputs": [],
   "source": [
    "# Step 1\n",
    "source_points_123 = matrix([[A[0], B[0], C[0]], \n",
    "                            [A[1], B[1], C[1]], \n",
    "                            [  1 ,   1 ,   1 ]])\n",
    "\n",
    "source_point_4 = [[D[0]],\n",
    "                  [D[1]],\n",
    "                  [ 1 ]]\n",
    "\n",
    "# solve the system of linear equations\n",
    "scale_to_source = solve(source_points_123, source_point_4)"
   ]
  },
  {
   "cell_type": "code",
   "execution_count": null,
   "metadata": {},
   "outputs": [],
   "source": [
    "scale_to_source"
   ]
  },
  {
   "cell_type": "code",
   "execution_count": null,
   "metadata": {},
   "outputs": [],
   "source": [
    "l, m, t = [float(x) for x in scale_to_source]\n",
    "l, m, t"
   ]
  },
  {
   "cell_type": "markdown",
   "metadata": {},
   "source": [
    "**Step 2:** Scale the columns by the coefficients you just computed:\n",
    "\n",
    "$$A=\\left(\\begin{array}{lll}\n",
    "\\lambda\\cdot x_1 & \\mu\\cdot x_2 & \\tau\\cdot x_3 \\\\\n",
    "\\lambda\\cdot y_1 & \\mu\\cdot y_2 & \\tau\\cdot y_3 \\\\\n",
    "\\lambda & \\mu & \\tau\n",
    "\\end{array}\\right)$$\n",
    "\n",
    "Now we computed the matrix, which transforms a Point P from the identity matrix to the given projection matrix."
   ]
  },
  {
   "cell_type": "code",
   "execution_count": null,
   "metadata": {},
   "outputs": [],
   "source": [
    "# Step 2\n",
    "identity_to_source = matrix([[l * A[0], m * B[0], t * C[0]], \n",
    "                             [l * A[1], m * B[1], t* C[1]], \n",
    "                             [     l ,      m ,    t ]])"
   ]
  },
  {
   "cell_type": "code",
   "execution_count": null,
   "metadata": {},
   "outputs": [],
   "source": [
    "identity_to_source"
   ]
  },
  {
   "cell_type": "markdown",
   "metadata": {},
   "source": [
    "**Step 3:** Repeat steps 1 and 2 for the corresponding positions in the destination image (our unprojected, undistorted image), in order to obtain a second matrix called $B$.\n",
    "\n",
    "This is a map from basis vectors to destination positions."
   ]
  },
  {
   "cell_type": "code",
   "execution_count": null,
   "metadata": {},
   "outputs": [],
   "source": [
    "# Step 3\n",
    "DESTINATION_SCREEN_WIDTH = 1280\n",
    "DESTINATION_SCREEN_HEIGHT = 720\n",
    "\n",
    "A2 = 0, DESTINATION_SCREEN_HEIGHT\n",
    "B2 = 0, 0\n",
    "C2 = DESTINATION_SCREEN_WIDTH, 0\n",
    "D2 = DESTINATION_SCREEN_WIDTH, DESTINATION_SCREEN_HEIGHT\n",
    "\n",
    "dcoords = [A2, B2, C2, D2]\n",
    "\n",
    "dest_points_123 = matrix([[A2[0], B2[0], C2[0]], \n",
    "                          [A2[1], B2[1], C2[1]], \n",
    "                          [  1 ,   1 ,   1 ]])\n",
    "            \n",
    "dest_point_4 = matrix([[D2[0]],\n",
    "                       [D2[1]],\n",
    "                       [ 1 ]])\n",
    "            \n",
    "scale_to_dest = solve(dest_points_123, dest_point_4)\n",
    "l,m,t = [float(x) for x in scale_to_dest]"
   ]
  },
  {
   "cell_type": "code",
   "execution_count": null,
   "metadata": {},
   "outputs": [],
   "source": [
    "identity_to_dest = matrix([[l * A2[0], m * B2[0], t * C2[0]], \n",
    "                           [l * A2[1], m * B2[1], t * C2[1]], \n",
    "                           [      l ,       m ,      t ]])"
   ]
  },
  {
   "cell_type": "code",
   "execution_count": null,
   "metadata": {},
   "outputs": [],
   "source": [
    "identity_to_dest"
   ]
  },
  {
   "cell_type": "markdown",
   "metadata": {},
   "source": [
    "**Step 4:** Invert $A$ to obtain $A^{-1}$.\n",
    "\n",
    "By inverting the matrix A we transform from source to identity instead of identity to source. Therefore, it transforms a point P of the projection matrix to a point P' represented by the identity matrix."
   ]
  },
  {
   "cell_type": "code",
   "execution_count": null,
   "metadata": {},
   "outputs": [],
   "source": [
    "source_to_identity = inv(identity_to_source)"
   ]
  },
  {
   "cell_type": "markdown",
   "metadata": {},
   "source": [
    "**Step 5:** Compute the combined matrix \n",
    "\n",
    "$C = B\\cdot A^{-1}$."
   ]
  },
  {
   "cell_type": "markdown",
   "metadata": {},
   "source": [
    "* We multiply $B$ with $A^{-1}$. from the left, because matrix multiplications are not commutative. So if we want to combine these matrices and keep both of their transformation behaviours, we have to do it that way. \n",
    "\n",
    "* We basically push the desired point from the source matrix A to the unit matrix and then push it to the desired destination position according to the destination martix $B$"
   ]
  },
  {
   "cell_type": "code",
   "execution_count": null,
   "metadata": {},
   "outputs": [],
   "source": [
    "source_to_dest = identity_to_dest @ source_to_identity"
   ]
  },
  {
   "cell_type": "code",
   "execution_count": null,
   "metadata": {},
   "outputs": [],
   "source": [
    "source_to_dest"
   ]
  },
  {
   "cell_type": "markdown",
   "metadata": {},
   "source": [
    "**Step 6:** To map a location $(x,y)$ from the source image to its corresponding location in the destination image, compute the product\n",
    "\n",
    "$$\\begin{pmatrix}x'\\\\y'\\\\z'\\end{pmatrix} =\n",
    "C\\cdot\\begin{pmatrix}x\\\\y\\\\1\\end{pmatrix}$$\n",
    "\n",
    "These are the homogenous coordinates of your transformed point."
   ]
  },
  {
   "cell_type": "code",
   "execution_count": null,
   "metadata": {},
   "outputs": [],
   "source": [
    "x,y,z = [float(w) for w in (source_to_dest @ matrix([[512],\n",
    "                                                     [384],\n",
    "                                                     [ 1 ]]))]"
   ]
  },
  {
   "cell_type": "code",
   "execution_count": null,
   "metadata": {},
   "outputs": [],
   "source": [
    "x, y, z"
   ]
  },
  {
   "cell_type": "markdown",
   "metadata": {},
   "source": [
    "**Step 7:** Compute the position in the destination image like this:\n",
    "\n",
    "\\begin{align*}\n",
    "x'' &= \\frac{x'}{z'} \\\\\n",
    "y'' &= \\frac{y'}{z'}\n",
    "\\end{align*}\n",
    "\n",
    "This is called *dehomogenization* of the coordinate vector. In that way, we retrieve the actual image coordinates of our projected point in the desired destination image, so we can use them for e.g. pointing."
   ]
  },
  {
   "cell_type": "code",
   "execution_count": null,
   "metadata": {},
   "outputs": [],
   "source": [
    "# step 7: dehomogenization\n",
    "x, y = x / z, y / z\n",
    "x, y"
   ]
  },
  {
   "cell_type": "code",
   "execution_count": null,
   "metadata": {},
   "outputs": [],
   "source": [
    "xlim(0, DESTINATION_SCREEN_WIDTH)\n",
    "ylim(0, DESTINATION_SCREEN_HEIGHT)\n",
    "scatter(*zip(*dcoords)) # repack points[] to axes[] for plotting\n",
    "scatter([x],[y],c='r',marker='+') # center of the Wiimote sensor"
   ]
  }
 ],
 "metadata": {
  "kernelspec": {
   "display_name": "Python 3",
   "language": "python",
   "name": "python3"
  },
  "language_info": {
   "codemirror_mode": {
    "name": "ipython",
    "version": 3
   },
   "file_extension": ".py",
   "mimetype": "text/x-python",
   "name": "python",
   "nbconvert_exporter": "python",
   "pygments_lexer": "ipython3",
   "version": "3.9.1+"
  }
 },
 "nbformat": 4,
 "nbformat_minor": 1
}
